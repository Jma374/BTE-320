{
  "nbformat": 4,
  "nbformat_minor": 0,
  "metadata": {
    "colab": {
      "provenance": [],
      "authorship_tag": "ABX9TyOr43FuHLVCY+SGC2tQ8xN4",
      "include_colab_link": true
    },
    "kernelspec": {
      "name": "python3",
      "display_name": "Python 3"
    },
    "language_info": {
      "name": "python"
    }
  },
  "cells": [
    {
      "cell_type": "markdown",
      "metadata": {
        "id": "view-in-github",
        "colab_type": "text"
      },
      "source": [
        "<a href=\"https://colab.research.google.com/github/Jma374/BTE-320/blob/main/dictionary.ipynb\" target=\"_parent\"><img src=\"https://colab.research.google.com/assets/colab-badge.svg\" alt=\"Open In Colab\"/></a>"
      ]
    },
    {
      "cell_type": "code",
      "execution_count": null,
      "metadata": {
        "id": "T_lGLNoZ_f7j"
      },
      "outputs": [],
      "source": [
        "grades ={\n",
        "    'alice': 91 ,\n",
        "    'bob': 88,\n",
        "    'tracy':93,\n",
        "    'erik':90\n",
        "}\n",
        "\n"
      ]
    },
    {
      "cell_type": "code",
      "source": [
        "grades['bob']"
      ],
      "metadata": {
        "colab": {
          "base_uri": "https://localhost:8080/"
        },
        "id": "l4OHQZtEAAoe",
        "outputId": "d98bbf5d-05f8-485b-f1c2-f4fbce231269"
      },
      "execution_count": null,
      "outputs": [
        {
          "output_type": "execute_result",
          "data": {
            "text/plain": [
              "88"
            ]
          },
          "metadata": {},
          "execution_count": 3
        }
      ]
    },
    {
      "cell_type": "code",
      "source": [
        "grades['Michael']=95"
      ],
      "metadata": {
        "id": "8TKSduYNAPBh"
      },
      "execution_count": null,
      "outputs": []
    },
    {
      "cell_type": "code",
      "source": [
        "grades['alice']= 95"
      ],
      "metadata": {
        "id": "2wHH8e9yAhcK"
      },
      "execution_count": null,
      "outputs": []
    },
    {
      "cell_type": "code",
      "source": [
        "del grades ['michael']"
      ],
      "metadata": {
        "id": "8898iryfBfkz"
      },
      "execution_count": null,
      "outputs": []
    },
    {
      "cell_type": "code",
      "source": [
        "grades.keys()"
      ],
      "metadata": {
        "colab": {
          "base_uri": "https://localhost:8080/"
        },
        "id": "7rCfWqCVCs-K",
        "outputId": "23569a77-53ca-4360-c4be-82e2a9fd5680"
      },
      "execution_count": null,
      "outputs": [
        {
          "output_type": "execute_result",
          "data": {
            "text/plain": [
              "dict_keys(['alice', 'bob', 'tracy', 'erik'])"
            ]
          },
          "metadata": {},
          "execution_count": 4
        }
      ]
    },
    {
      "cell_type": "code",
      "source": [
        "grades.values()"
      ],
      "metadata": {
        "colab": {
          "base_uri": "https://localhost:8080/"
        },
        "id": "eD2w7Z8RCyZ3",
        "outputId": "05507669-fb9e-4027-8297-f5dda38ef5bc"
      },
      "execution_count": null,
      "outputs": [
        {
          "output_type": "execute_result",
          "data": {
            "text/plain": [
              "dict_values([91, 88, 93, 90])"
            ]
          },
          "metadata": {},
          "execution_count": 5
        }
      ]
    },
    {
      "cell_type": "code",
      "source": [
        "grades.items()"
      ],
      "metadata": {
        "colab": {
          "base_uri": "https://localhost:8080/"
        },
        "id": "Y_FwJQ-qC2cY",
        "outputId": "27303e63-702b-4a70-a94d-a288bbbca747"
      },
      "execution_count": null,
      "outputs": [
        {
          "output_type": "execute_result",
          "data": {
            "text/plain": [
              "dict_items([('alice', 91), ('bob', 88), ('tracy', 93), ('erik', 90)])"
            ]
          },
          "metadata": {},
          "execution_count": 7
        }
      ]
    },
    {
      "cell_type": "code",
      "source": [
        "for keys in grades.keys():\n",
        "  print(keys)"
      ],
      "metadata": {
        "colab": {
          "base_uri": "https://localhost:8080/"
        },
        "id": "z8zVKK4-DjNi",
        "outputId": "6764716b-38cb-4309-bd71-3ce65c4c5e1b"
      },
      "execution_count": null,
      "outputs": [
        {
          "output_type": "stream",
          "name": "stdout",
          "text": [
            "alice\n",
            "bob\n",
            "tracy\n",
            "erik\n"
          ]
        }
      ]
    },
    {
      "cell_type": "code",
      "source": [
        "for values in grades.values():\n",
        "  print(values)"
      ],
      "metadata": {
        "colab": {
          "base_uri": "https://localhost:8080/"
        },
        "id": "bolE7yx_Dvfe",
        "outputId": "2f753d57-6ab4-4253-b624-ac916b5d3e7c"
      },
      "execution_count": null,
      "outputs": [
        {
          "output_type": "stream",
          "name": "stdout",
          "text": [
            "91\n",
            "88\n",
            "93\n",
            "90\n"
          ]
        }
      ]
    },
    {
      "cell_type": "code",
      "source": [
        "for n,v, in grades.items():\n",
        "  print(n,v)"
      ],
      "metadata": {
        "colab": {
          "base_uri": "https://localhost:8080/"
        },
        "id": "GDtlQ0YkEQYq",
        "outputId": "f8cda409-4012-4a03-ebcc-505ecfb33ce5"
      },
      "execution_count": null,
      "outputs": [
        {
          "output_type": "stream",
          "name": "stdout",
          "text": [
            "alice 91\n",
            "bob 88\n",
            "tracy 93\n",
            "erik 90\n"
          ]
        }
      ]
    },
    {
      "cell_type": "markdown",
      "source": [
        "lists are mdoifiable better for passwords\n",
        "\n",
        "usernames cannot be changed so tupple\n",
        "\n",
        "fist 4 lectures"
      ],
      "metadata": {
        "id": "zo4DOWYHGD2h"
      }
    },
    {
      "cell_type": "code",
      "source": [
        "# difference between object and variable\n",
        "# object is a literal representing a value (2) ('abc')\n",
        "\n",
        "#intergers floats and booleans\n",
        "# comparison operators\n",
        "#function type(x) and isinstance\n",
        "# numerical operators\n",
        "#bollean operators\n",
        "# variables are place holders\n"
      ],
      "metadata": {
        "id": "qldKWtfrGQG_"
      },
      "execution_count": null,
      "outputs": []
    },
    {
      "cell_type": "markdown",
      "source": [
        "Lecture 2"
      ],
      "metadata": {
        "id": "N1V-J2txHzsX"
      }
    },
    {
      "cell_type": "code",
      "source": [
        "# function print\n",
        "# function input\n",
        "#conditional and iterations ( if else elif )\n",
        "# nested conditionals ( )\n",
        "#compund Bolean expreson ( a and b (both have to be true )) ( a or b (one has to be true))\n",
        "# range\n",
        "#for loop and while loop similarities and diferences\n",
        "\n"
      ],
      "metadata": {
        "id": "OcyeVVAxHvUI"
      },
      "execution_count": null,
      "outputs": []
    },
    {
      "cell_type": "markdown",
      "source": [
        "lecture 3"
      ],
      "metadata": {
        "id": "ihmYn0VKLl4E"
      }
    },
    {
      "cell_type": "code",
      "source": [],
      "metadata": {
        "id": "NUMiCkfCLoGD"
      },
      "execution_count": null,
      "outputs": []
    },
    {
      "cell_type": "markdown",
      "source": [
        "lecutre 4"
      ],
      "metadata": {
        "id": "jm-7tiQTMTBn"
      }
    },
    {
      "cell_type": "code",
      "source": [
        "#lists ( mutable ) apend (n+1) extened(by items within individual n+10) pop (remove last item by defult n-1 ) sort (asending order by default)\n",
        "#list cloning = slice\n",
        "#tuples = inmutable lists"
      ],
      "metadata": {
        "id": "W2M4XgeDMUAp"
      },
      "execution_count": null,
      "outputs": []
    }
  ]
}