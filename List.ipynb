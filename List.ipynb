{
  "nbformat": 4,
  "nbformat_minor": 0,
  "metadata": {
    "colab": {
      "provenance": [],
      "authorship_tag": "ABX9TyMGO+WlALgJRxzFbg1g40i9",
      "include_colab_link": true
    },
    "kernelspec": {
      "name": "python3",
      "display_name": "Python 3"
    },
    "language_info": {
      "name": "python"
    }
  },
  "cells": [
    {
      "cell_type": "markdown",
      "metadata": {
        "id": "view-in-github",
        "colab_type": "text"
      },
      "source": [
        "<a href=\"https://colab.research.google.com/github/Jma374/BTE-320/blob/main/List.ipynb\" target=\"_parent\"><img src=\"https://colab.research.google.com/assets/colab-badge.svg\" alt=\"Open In Colab\"/></a>"
      ]
    },
    {
      "cell_type": "code",
      "execution_count": null,
      "metadata": {
        "id": "mI9OIcL4INqA"
      },
      "outputs": [],
      "source": [
        "list = []\n",
        "while True:\n",
        "  userinput = int(input('Enter an interger to append to the list'))\n",
        "  if userinput ==0:\n",
        "    break\n",
        "  List.append(userinput)\n",
        "  print(f'Here is your current list: {List}')\n",
        "Print(f'Here is your list:{List}')"
      ]
    }
  ]
}