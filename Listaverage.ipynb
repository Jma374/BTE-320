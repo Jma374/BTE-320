{
  "nbformat": 4,
  "nbformat_minor": 0,
  "metadata": {
    "colab": {
      "provenance": [],
      "authorship_tag": "ABX9TyPoRw4YNeqJeaJUqzE/Z87L",
      "include_colab_link": true
    },
    "kernelspec": {
      "name": "python3",
      "display_name": "Python 3"
    },
    "language_info": {
      "name": "python"
    }
  },
  "cells": [
    {
      "cell_type": "markdown",
      "metadata": {
        "id": "view-in-github",
        "colab_type": "text"
      },
      "source": [
        "<a href=\"https://colab.research.google.com/github/Jma374/BTE-320/blob/main/Listaverage.ipynb\" target=\"_parent\"><img src=\"https://colab.research.google.com/assets/colab-badge.svg\" alt=\"Open In Colab\"/></a>"
      ]
    },
    {
      "cell_type": "code",
      "execution_count": 2,
      "metadata": {
        "colab": {
          "base_uri": "https://localhost:8080/"
        },
        "id": "9x8yaZAhQW1B",
        "outputId": "955a7d8b-6101-44c5-8b93-8221b53cf9fa"
      },
      "outputs": [
        {
          "output_type": "stream",
          "name": "stdout",
          "text": [
            "Enter value1:3\n",
            "Enter value2:2\n",
            "Enter value3:6\n",
            "Enter value4:5\n",
            "Enter value5:7\n",
            "Enter value6:4\n",
            "Average 5.5\n"
          ]
        }
      ],
      "source": [
        "def getValues(n):\n",
        "  alist = []\n",
        "  for i in range(n):\n",
        "    value = float(input(\"Enter value\"+ str(i+1)+\":\"))\n",
        "    alist.append(value)\n",
        "  return alist\n",
        "\n",
        "def calcAverage(alist):\n",
        "  sum=0\n",
        "  for value in alist:\n",
        "    sum += value\n",
        "  return sum / len(alist)\n",
        "\n",
        "values = getValues(6)\n",
        "average = calcAverage(values[2:])\n",
        "print('Average', average)"
      ]
    }
  ]
}