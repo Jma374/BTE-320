{
  "nbformat": 4,
  "nbformat_minor": 0,
  "metadata": {
    "colab": {
      "provenance": [],
      "authorship_tag": "ABX9TyNAKZDHMmpD+9FYD5MLSprg",
      "include_colab_link": true
    },
    "kernelspec": {
      "name": "python3",
      "display_name": "Python 3"
    },
    "language_info": {
      "name": "python"
    }
  },
  "cells": [
    {
      "cell_type": "markdown",
      "metadata": {
        "id": "view-in-github",
        "colab_type": "text"
      },
      "source": [
        "<a href=\"https://colab.research.google.com/github/Jma374/BTE-320/blob/main/Lecture_2.ipynb\" target=\"_parent\"><img src=\"https://colab.research.google.com/assets/colab-badge.svg\" alt=\"Open In Colab\"/></a>"
      ]
    },
    {
      "cell_type": "code",
      "execution_count": null,
      "metadata": {
        "id": "C_rrlMTAx_4H"
      },
      "outputs": [],
      "source": [
        "# print displays a message on screen. whatever provided is always outputed out of function as STRING\n",
        "# 5 Inputs 4 named ones and 1 not named. Objects that want to display on screen\n",
        "Print(obj(s),sep=\" \", end = \"\\n\", file, flash)\n",
        "print area\n",
        "print (\"area=\", area)\n",
        "          obj1, obj2\n"
      ]
    },
    {
      "cell_type": "code",
      "source": [],
      "metadata": {
        "id": "D-Nl-6nBFVtj"
      },
      "execution_count": null,
      "outputs": []
    },
    {
      "cell_type": "code",
      "source": [],
      "metadata": {
        "id": "hoS3_QxPya_u"
      },
      "execution_count": null,
      "outputs": []
    },
    {
      "cell_type": "code",
      "source": [],
      "metadata": {
        "id": "cAAVI1npA7RE"
      },
      "execution_count": null,
      "outputs": []
    },
    {
      "cell_type": "code",
      "source": [
        "area = 10\n",
        "print(\"Area=\", area sep='---')"
      ],
      "metadata": {
        "colab": {
          "base_uri": "https://localhost:8080/",
          "height": 145
        },
        "id": "4kzTOX4tzStU",
        "outputId": "a3a18b02-b844-4ff7-f60d-b2533aa51141"
      },
      "execution_count": null,
      "outputs": [
        {
          "output_type": "error",
          "ename": "SyntaxError",
          "evalue": "invalid syntax. Perhaps you forgot a comma? (<ipython-input-2-c97c8e163d6a>, line 2)",
          "traceback": [
            "\u001b[0;36m  File \u001b[0;32m\"<ipython-input-2-c97c8e163d6a>\"\u001b[0;36m, line \u001b[0;32m2\u001b[0m\n\u001b[0;31m    print(\"Area=\", area sep='---')\u001b[0m\n\u001b[0m                   ^\u001b[0m\n\u001b[0;31mSyntaxError\u001b[0m\u001b[0;31m:\u001b[0m invalid syntax. Perhaps you forgot a comma?\n"
          ]
        }
      ]
    },
    {
      "cell_type": "code",
      "source": [
        "\"Area=\"+\" \"str(area)+\"ln\""
      ],
      "metadata": {
        "id": "MjjcPw9AzfwC"
      },
      "execution_count": null,
      "outputs": []
    },
    {
      "cell_type": "code",
      "source": [
        "# print to string objects. all rest of parameters keep their default values\n",
        "print('Good night', ' and good luck')\n",
        "\n",
        "#change default seperator to ---\n",
        "print( 'good night', 'and goof luck', sep=\"---\")\n",
        "\n",
        "#change default end character to empty space\n",
        "print ('good morning')\n",
        "print ('good night', 'and good luck...', end='')\n",
        "print('good morning\\n again')"
      ],
      "metadata": {
        "colab": {
          "base_uri": "https://localhost:8080/"
        },
        "id": "Ny4fnyZZ08oL",
        "outputId": "726a4f80-ed87-486a-fe16-b0333008358b"
      },
      "execution_count": null,
      "outputs": [
        {
          "output_type": "stream",
          "name": "stdout",
          "text": [
            "Good night  and good luck\n",
            "good night---and goof luck\n",
            "good morning\n",
            "good night and good luck...good morning\n",
            " again\n"
          ]
        }
      ]
    },
    {
      "cell_type": "code",
      "source": [
        "area = 10\n",
        "\"area = \"+\" \"+ str(area)+ \"\\n\""
      ],
      "metadata": {
        "colab": {
          "base_uri": "https://localhost:8080/",
          "height": 36
        },
        "id": "W42kPFbS2FF2",
        "outputId": "12b120a3-51b5-4a54-9b5f-9bd3f904a0a4"
      },
      "execution_count": null,
      "outputs": [
        {
          "output_type": "execute_result",
          "data": {
            "text/plain": [
              "'area =  10\\n'"
            ],
            "application/vnd.google.colaboratory.intrinsic+json": {
              "type": "string"
            }
          },
          "metadata": {},
          "execution_count": 5
        }
      ]
    },
    {
      "cell_type": "code",
      "source": [
        "# print a given value\n",
        "pi =3.14\n",
        "e = 2.71\n",
        "print ('The value of pi is', pi, 'and the vlaue of Euler number is', e)"
      ],
      "metadata": {
        "id": "7llVt9bb3IvS"
      },
      "execution_count": null,
      "outputs": []
    },
    {
      "cell_type": "code",
      "source": [
        "#obj.methodName (...)\n",
        "#\"....{}.....{}\" format (pi, e)"
      ],
      "metadata": {
        "id": "F26AYxbX44Zb"
      },
      "execution_count": null,
      "outputs": []
    },
    {
      "cell_type": "code",
      "source": [
        "f\"....{pi}....{e}\""
      ],
      "metadata": {
        "id": "9YMQocxf5fL3"
      },
      "execution_count": null,
      "outputs": []
    },
    {
      "cell_type": "code",
      "source": [
        "pi =3.14\n",
        "e = 2.71\n",
        "# format\n",
        "print ('the vlaue of pi is {}, and the value of Euler number is {}'.format(pi,e))\n",
        "\n",
        "# f-strings\n",
        "print (f'the value of pi is {pi}, and the value of Euler number is {e}')"
      ],
      "metadata": {
        "colab": {
          "base_uri": "https://localhost:8080/"
        },
        "id": "8p5-YJVy6M5t",
        "outputId": "a0136d5b-59c3-49d6-8ddd-af98b3ad9eec"
      },
      "execution_count": null,
      "outputs": [
        {
          "output_type": "stream",
          "name": "stdout",
          "text": [
            "the vlaue of pi is 3.14, and the value of Euler number is 2.71\n",
            "the value of pi is 3.14, and the value of Euler number is 2.71\n"
          ]
        }
      ]
    },
    {
      "cell_type": "code",
      "source": [
        "name = input ('enter your name')\n",
        "print ('hi', name)\n",
        "type (name)"
      ],
      "metadata": {
        "colab": {
          "base_uri": "https://localhost:8080/"
        },
        "id": "ycNCiFv2A8ep",
        "outputId": "1eaf3523-bb0c-49c4-f333-87f306276dad"
      },
      "execution_count": null,
      "outputs": [
        {
          "output_type": "stream",
          "name": "stdout",
          "text": [
            "enter your nameJuan \n",
            "hi Juan \n"
          ]
        },
        {
          "output_type": "execute_result",
          "data": {
            "text/plain": [
              "str"
            ]
          },
          "metadata": {},
          "execution_count": 1
        }
      ]
    },
    {
      "cell_type": "code",
      "source": [
        "n = int(input('enter an interger value:'))\n",
        "print (type(n), n)"
      ],
      "metadata": {
        "colab": {
          "base_uri": "https://localhost:8080/"
        },
        "id": "kCpYXMj5BdO-",
        "outputId": "b06f49d8-4d0b-4ab6-e7cd-06d73ef8579b"
      },
      "execution_count": null,
      "outputs": [
        {
          "output_type": "stream",
          "name": "stdout",
          "text": [
            "enter an interger value:3\n",
            "<class 'int'> 3\n"
          ]
        }
      ]
    },
    {
      "cell_type": "markdown",
      "source": [
        "CONDITIONALS AND ITERATIONS"
      ],
      "metadata": {
        "id": "vp6IKvgECick"
      }
    },
    {
      "cell_type": "code",
      "source": [
        " N=1 #ASSIGNMENT\n",
        " N==2 #COMPARISON"
      ],
      "metadata": {
        "id": "z7gdj0AECmMc"
      },
      "execution_count": null,
      "outputs": []
    },
    {
      "cell_type": "code",
      "source": [],
      "metadata": {
        "id": "_WSLRpbMEQPB"
      },
      "execution_count": null,
      "outputs": []
    },
    {
      "cell_type": "markdown",
      "source": [
        "initial statements\n",
        "\n",
        "if condition:\n",
        "  Statements"
      ],
      "metadata": {
        "id": "DsQhE-CzFkT4"
      }
    },
    {
      "cell_type": "code",
      "source": [
        "userInput= float(input('enter a number'))\n",
        "if userInput > 0:\n",
        "  print(f'{userInput} is positive')"
      ],
      "metadata": {
        "colab": {
          "base_uri": "https://localhost:8080/"
        },
        "id": "nz7y-DPDFrAj",
        "outputId": "c3bfd5c8-4d84-44b3-a27b-5a7d38e9bc14"
      },
      "execution_count": null,
      "outputs": [
        {
          "name": "stdout",
          "output_type": "stream",
          "text": [
            "enter a number0\n"
          ]
        }
      ]
    },
    {
      "cell_type": "markdown",
      "source": [
        "ALternative path:\n",
        "else:\n",
        "  statement\n",
        "\n",
        "float = all numbers\n",
        "  int= only intergers\n"
      ],
      "metadata": {
        "id": "hfa_XTIyHjVU"
      }
    },
    {
      "cell_type": "code",
      "source": [
        "userInput= float(input('enter a number'))\n",
        "if userInput > 0:\n",
        "  print(f'{userInput} is positive')\n",
        "else:\n",
        "  print(f'{userInput} is negative or 0')"
      ],
      "metadata": {
        "colab": {
          "base_uri": "https://localhost:8080/"
        },
        "id": "CjJQsHpsHqW_",
        "outputId": "e103f7ee-c288-4aee-a3a6-7e79ea0e4e93"
      },
      "execution_count": null,
      "outputs": [
        {
          "output_type": "stream",
          "name": "stdout",
          "text": [
            "enter a number-1\n",
            "-1.0 is negative or 0\n"
          ]
        }
      ]
    },
    {
      "cell_type": "markdown",
      "source": [
        "**ELIF condition:**\n",
        "  \n",
        "  statements\n",
        "\n",
        "\n",
        "**else**:\n",
        "\n",
        "  statements\n",
        "\n",
        "**IF:** ONE\n",
        "\n",
        "**ELIF**: as many\n",
        "\n",
        "**Else:** 0,1"
      ],
      "metadata": {
        "id": "jX8oYWoLJGOb"
      }
    },
    {
      "cell_type": "markdown",
      "source": [],
      "metadata": {
        "id": "KGnGRtT-J1p1"
      }
    },
    {
      "cell_type": "code",
      "source": [
        "userInput= float(input('enter a number'))\n",
        "if userInput > 0:\n",
        "  print(f'{userInput} is positive')\n",
        "elif userInput<0:\n",
        "  print (f'{userInput} is negative')\n",
        "else:\n",
        "  print(f'{userInput} is zero')"
      ],
      "metadata": {
        "colab": {
          "base_uri": "https://localhost:8080/"
        },
        "id": "QXgdLxk8K7UK",
        "outputId": "eb3acd83-68d3-4dc1-e97a-9835cb12e3fa"
      },
      "execution_count": null,
      "outputs": [
        {
          "output_type": "stream",
          "name": "stdout",
          "text": [
            "enter a number0\n",
            "0.0 is zero\n"
          ]
        }
      ]
    },
    {
      "cell_type": "code",
      "source": [
        "userInput= float(input('enter grade'))\n",
        "if userInput >97:\n",
        "  print('A')\n",
        "elif userInput >=93:\n",
        "    print('A')\n",
        "elif userInput >=90:\n",
        "  print('A-')\n",
        "else:\n",
        "  print('B+')"
      ],
      "metadata": {
        "colab": {
          "base_uri": "https://localhost:8080/"
        },
        "id": "f0BO8EXKJFrh",
        "outputId": "c73038dd-7227-4653-d178-7467143be76e"
      },
      "execution_count": null,
      "outputs": [
        {
          "output_type": "stream",
          "name": "stdout",
          "text": [
            "enter grade85\n",
            "B+\n"
          ]
        }
      ]
    },
    {
      "cell_type": "code",
      "source": [
        "userInput= float(input('enter number'))\n",
        "if userInput%2 ==0:\n",
        "  print('even')\n",
        "else:\n",
        "  print(\"odd\")"
      ],
      "metadata": {
        "id": "-5i_UpqyOeXy"
      },
      "execution_count": null,
      "outputs": []
    },
    {
      "cell_type": "code",
      "source": [
        "userInput= float(input('enter Loan amount'))\n",
        "if userInput > 10000:\n",
        "  print(3.5)\n",
        "elif 1000 < userInput <= 10000:\n",
        "  print(3.2)\n",
        "else:\n",
        "  print(3.0)"
      ],
      "metadata": {
        "colab": {
          "base_uri": "https://localhost:8080/"
        },
        "id": "_hx3Rb2uvVnP",
        "outputId": "2911e1e3-152c-4382-eb85-bb1ffe855ef1"
      },
      "execution_count": null,
      "outputs": [
        {
          "output_type": "stream",
          "name": "stdout",
          "text": [
            "enter Loan amount10000\n",
            "3.2\n"
          ]
        }
      ]
    },
    {
      "cell_type": "code",
      "source": [
        "#Step 1: Input deposite amount\n",
        "deposit = float(input('Enter the deposite amount ($): '))\n",
        "\n",
        "# Step 2: Decide interest rate\n",
        "if deposit > 10000:\n",
        "  ir = 3.5\n",
        "elif deposit > 1000:\n",
        "  ir = 3.25\n",
        "else:\n",
        "  ir = 3.0\n",
        "\n",
        "# Step 3 Display total amount after interest rate is applied\n",
        "total = (1 + ir/100) * deposit\n",
        "print (f' Total after interest applied: {round(total)} $')"
      ],
      "metadata": {
        "colab": {
          "base_uri": "https://localhost:8080/"
        },
        "id": "1sslMlW3xc5g",
        "outputId": "2b3f3a58-527e-45b1-afcf-56a0816035f1"
      },
      "execution_count": null,
      "outputs": [
        {
          "output_type": "stream",
          "name": "stdout",
          "text": [
            "Enter the deposite amount ($): 15000\n",
            " Total after interest applied: 15525 $\n"
          ]
        }
      ]
    },
    {
      "cell_type": "markdown",
      "source": [
        "**Nested Conditionals**"
      ],
      "metadata": {
        "id": "pHcKfM4o0ste"
      }
    },
    {
      "cell_type": "code",
      "source": [
        "if x%2 == 0: # <-- first checks if x%2 equals to zero\n",
        "    if x%3 == 0: # <-- if x%2 indeed equals to zero, then checks if x%3 is also zero\n",
        "        print('Divisible by 2 and 3') #6\n",
        "    else:\n",
        "        print('Divisible by 2 and not by 3') #4\n",
        "elif x%3 == 0:\n",
        "    print('Divisible by 3 and not by 2') #9\n",
        "else:\n",
        "    print('Not divisible by either 2 or 3') #7\n",
        "```\n"
      ],
      "metadata": {
        "id": "spqPtzRE0x6I"
      },
      "execution_count": null,
      "outputs": []
    },
    {
      "cell_type": "code",
      "source": [
        "from ColabTurtlePlus.Turtle import *\n",
        "\n",
        "clearscreen()\n",
        "\n",
        "color('black', 'green')\n",
        "begin_fill()\n",
        "\n",
        "for i in range  (4):\n",
        "forward(100)\n",
        "left(90)\n",
        "\n",
        "end_fill()"
      ],
      "metadata": {
        "colab": {
          "base_uri": "https://localhost:8080/",
          "height": 378
        },
        "id": "mYDe1q4UydAV",
        "outputId": "79004b7e-3f27-4fb5-88b6-d7ab87e31409"
      },
      "execution_count": null,
      "outputs": [
        {
          "output_type": "error",
          "ename": "ModuleNotFoundError",
          "evalue": "No module named 'ColabTurtlePlus'",
          "traceback": [
            "\u001b[0;31m---------------------------------------------------------------------------\u001b[0m",
            "\u001b[0;31mModuleNotFoundError\u001b[0m                       Traceback (most recent call last)",
            "\u001b[0;32m<ipython-input-4-ae667e45f9ff>\u001b[0m in \u001b[0;36m<cell line: 1>\u001b[0;34m()\u001b[0m\n\u001b[0;32m----> 1\u001b[0;31m \u001b[0;32mfrom\u001b[0m \u001b[0mColabTurtlePlus\u001b[0m\u001b[0;34m.\u001b[0m\u001b[0mTurtle\u001b[0m \u001b[0;32mimport\u001b[0m \u001b[0;34m*\u001b[0m\u001b[0;34m\u001b[0m\u001b[0;34m\u001b[0m\u001b[0m\n\u001b[0m\u001b[1;32m      2\u001b[0m \u001b[0;34m\u001b[0m\u001b[0m\n\u001b[1;32m      3\u001b[0m \u001b[0mclearscreen\u001b[0m\u001b[0;34m(\u001b[0m\u001b[0;34m)\u001b[0m\u001b[0;34m\u001b[0m\u001b[0;34m\u001b[0m\u001b[0m\n\u001b[1;32m      4\u001b[0m \u001b[0;34m\u001b[0m\u001b[0m\n\u001b[1;32m      5\u001b[0m \u001b[0mcolor\u001b[0m\u001b[0;34m(\u001b[0m\u001b[0;34m'black'\u001b[0m\u001b[0;34m,\u001b[0m \u001b[0;34m'green'\u001b[0m\u001b[0;34m)\u001b[0m\u001b[0;34m\u001b[0m\u001b[0;34m\u001b[0m\u001b[0m\n",
            "\u001b[0;31mModuleNotFoundError\u001b[0m: No module named 'ColabTurtlePlus'",
            "",
            "\u001b[0;31m---------------------------------------------------------------------------\u001b[0;32m\nNOTE: If your import is failing due to a missing package, you can\nmanually install dependencies using either !pip or !apt.\n\nTo view examples of installing some common dependencies, click the\n\"Open Examples\" button below.\n\u001b[0;31m---------------------------------------------------------------------------\u001b[0m\n"
          ],
          "errorDetails": {
            "actions": [
              {
                "action": "open_url",
                "actionText": "Open Examples",
                "url": "/notebooks/snippets/importing_libraries.ipynb"
              }
            ]
          }
        }
      ]
    },
    {
      "cell_type": "code",
      "source": [
        "for i in range (1, 13, 1):\n",
        " print (i)"
      ],
      "metadata": {
        "colab": {
          "base_uri": "https://localhost:8080/"
        },
        "id": "sev_LCxK5C9z",
        "outputId": "22deb297-03bc-4a14-d8b1-6c1dec116830"
      },
      "execution_count": null,
      "outputs": [
        {
          "output_type": "stream",
          "name": "stdout",
          "text": [
            "1\n",
            "2\n",
            "3\n",
            "4\n",
            "5\n",
            "6\n",
            "7\n",
            "8\n",
            "9\n",
            "10\n",
            "11\n",
            "12\n"
          ]
        }
      ]
    },
    {
      "cell_type": "code",
      "source": [
        "for i in range (10, 2 -5):\n",
        "  print (i)"
      ],
      "metadata": {
        "id": "llXe88hb8Bi7"
      },
      "execution_count": null,
      "outputs": []
    },
    {
      "cell_type": "code",
      "source": [
        "for i in range (1,9):\n",
        " r = 5 + 2.5 * i\n",
        " print (r,i)\n",
        "\n",
        " if r> 20:\n",
        "  false\n",
        "  if r< 10:\n",
        "    false"
      ],
      "metadata": {
        "colab": {
          "base_uri": "https://localhost:8080/"
        },
        "id": "B1Ut-yss813S",
        "outputId": "f498c5af-16eb-4335-9240-b03c427751e9"
      },
      "execution_count": null,
      "outputs": [
        {
          "output_type": "stream",
          "name": "stdout",
          "text": [
            "7.5 1\n",
            "10.0 2\n",
            "12.5 3\n",
            "15.0 4\n",
            "17.5 5\n",
            "20.0 6\n",
            "22.5 7\n",
            "25.0 8\n"
          ]
        }
      ]
    },
    {
      "cell_type": "code",
      "source": [
        "i = 1\n",
        "n = 5\n",
        "while i < n:\n",
        "  print (i)\n",
        "  i= i + 1\n"
      ],
      "metadata": {
        "colab": {
          "base_uri": "https://localhost:8080/"
        },
        "id": "9Z-Tf3jrFXXS",
        "outputId": "022131a2-100d-4e8e-a63f-74b1690780d2"
      },
      "execution_count": null,
      "outputs": [
        {
          "output_type": "stream",
          "name": "stdout",
          "text": [
            "1\n",
            "2\n",
            "3\n",
            "4\n"
          ]
        }
      ]
    },
    {
      "cell_type": "code",
      "source": [
        "UserInput=input(\"Play Game?\")\n",
        "while UserInput== \"y\":\n",
        "  game\n",
        "userinput="
      ],
      "metadata": {
        "id": "J5hRaNWNJkgH"
      },
      "execution_count": null,
      "outputs": []
    },
    {
      "cell_type": "code",
      "source": [
        "import random\n",
        "\n",
        "user_choice = input(\"Enter your choice (rock, paper, or scissors): \")\n",
        "computer_choice = random.choice([\"rock\", \"paper\", \"scissors\"])\n",
        "\n",
        "print(f\"You chose: {user_choice}\")\n",
        "print(f\"Computer chose: {computer_choice}\")\n",
        "\n",
        "if user_choice == computer_choice:\n",
        "    print(\"It's a tie!\")\n",
        "elif (\n",
        "    (user_choice == \"rock\" and computer_choice == \"scissors\") or\n",
        "    (user_choice == \"paper\" and computer_choice == \"rock\") or\n",
        "    (user_choice == \"scissors\" and computer_choice == \"paper\")\n",
        "  ):\n",
        "    print(\"You win!\")\n",
        "else:\n",
        "    print(\"Computer wins!\")\n",
        "\n",
        "UserInput=input(\"Play another game? Y/N\")\n",
        "\n",
        "while UserInput== \"Y\":\n",
        "\n",
        "\n",
        "  user_choice = input(\"Enter your choice (rock, paper, or scissors): \")\n",
        "  computer_choice = random.choice([\"rock\", \"paper\", \"scissors\"])\n",
        "\n",
        "  print(f\"You chose: {user_choice}\")\n",
        "  print(f\"Computer chose: {computer_choice}\")\n",
        "\n",
        "  if user_choice == computer_choice:\n",
        "    print(\"It's a tie!\")\n",
        "  elif (\n",
        "    (user_choice == \"rock\" and computer_choice == \"scissors\") or\n",
        "    (user_choice == \"paper\" and computer_choice == \"rock\") or\n",
        "    (user_choice == \"scissors\" and computer_choice == \"paper\")\n",
        "  ):\n",
        "      print(\"You win!\")\n",
        "  else:\n",
        "      print(\"Computer wins!\")\n",
        "  UserInput=input(\"Play another game? Y/N\")\n",
        "\n",
        "  if Userinput == \"N\"\n",
        "    break\n",
        "\n",
        "\n",
        "\n"
      ],
      "metadata": {
        "colab": {
          "base_uri": "https://localhost:8080/"
        },
        "id": "imksT6lhKnfw",
        "outputId": "8fd90336-2eee-46c4-e673-81824c700ec2"
      },
      "execution_count": null,
      "outputs": [
        {
          "name": "stdout",
          "output_type": "stream",
          "text": [
            "Enter your choice (rock, paper, or scissors): paper\n",
            "You chose: paper\n",
            "Computer chose: scissors\n",
            "Computer wins!\n",
            "Play another game? Y/NY\n",
            "Enter your choice (rock, paper, or scissors): rock\n",
            "You chose: rock\n",
            "Computer chose: scissors\n",
            "You win!\n",
            "Play another game? Y/NN\n"
          ]
        }
      ]
    },
    {
      "cell_type": "code",
      "source": [
        "down= 100000\n",
        "deposit= 10000\n",
        "n_months = 0\n",
        "\n",
        "while deposit < down\n",
        "deposit = deposit + amount\n",
        "n_months = n_months + 1"
      ],
      "metadata": {
        "id": "Z6NpmUs9TFG_"
      },
      "execution_count": null,
      "outputs": []
    },
    {
      "cell_type": "code",
      "source": [
        "if userinput ==\"Y\":\n",
        "  continue\n",
        "\n",
        "  #any code below is ingonred and goes back to while above"
      ],
      "metadata": {
        "id": "fUEv8hd9VJEk"
      },
      "execution_count": null,
      "outputs": []
    }
  ]
}