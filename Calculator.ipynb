{
  "nbformat": 4,
  "nbformat_minor": 0,
  "metadata": {
    "colab": {
      "provenance": [],
      "authorship_tag": "ABX9TyPGJEBAYg/SOZmfrpvTUcKk",
      "include_colab_link": true
    },
    "kernelspec": {
      "name": "python3",
      "display_name": "Python 3"
    },
    "language_info": {
      "name": "python"
    }
  },
  "cells": [
    {
      "cell_type": "markdown",
      "metadata": {
        "id": "view-in-github",
        "colab_type": "text"
      },
      "source": [
        "<a href=\"https://colab.research.google.com/github/Jma374/BTE-320/blob/main/Calculator.ipynb\" target=\"_parent\"><img src=\"https://colab.research.google.com/assets/colab-badge.svg\" alt=\"Open In Colab\"/></a>"
      ]
    },
    {
      "cell_type": "code",
      "execution_count": null,
      "metadata": {
        "colab": {
          "base_uri": "https://localhost:8080/"
        },
        "id": "QKjFZRmx6hpE",
        "outputId": "1159907d-147b-428d-c2b2-d9aa076bfe73"
      },
      "outputs": [
        {
          "metadata": {
            "tags": null
          },
          "name": "stdout",
          "output_type": "stream",
          "text": [
            "6.0\n"
          ]
        }
      ],
      "source": [
        "while True:\n",
        "  operator = input('Enter operator:')\n",
        "\n",
        "  if operator == 'break':\n",
        "    break\n",
        "\n",
        "  n1 = float(input(\"first number\"))\n",
        "  n2 = float(input(\"second number\"))\n",
        "  if operator == \"+\":\n",
        "      print (n1 + n2)\n",
        "  elif operator == \"-\":\n",
        "      print (n1 - n2)\n",
        "  elif operator == \"*\":\n",
        "      print (n1 * n2)\n",
        "  elif operator == \"/\":\n",
        "      print (n1/n2)\n",
        "  elif operator == \"//\":\n",
        "      print (n1//n2)\n",
        "  elif operator == \"**\":\n",
        "      print (n1**n2)\n",
        "  elif operator == \"%\":\n",
        "      print (n1%n2)\n",
        "  else:\n",
        "    print('Invalid Operator ')\n",
        "    continue\n",
        "\n",
        "\n",
        "\n",
        "\n"
      ]
    }
  ]
}