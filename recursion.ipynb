{
  "nbformat": 4,
  "nbformat_minor": 0,
  "metadata": {
    "colab": {
      "provenance": [],
      "authorship_tag": "ABX9TyPP6d8f3rwwYabGcyiq3YNA",
      "include_colab_link": true
    },
    "kernelspec": {
      "name": "python3",
      "display_name": "Python 3"
    },
    "language_info": {
      "name": "python"
    }
  },
  "cells": [
    {
      "cell_type": "markdown",
      "metadata": {
        "id": "view-in-github",
        "colab_type": "text"
      },
      "source": [
        "<a href=\"https://colab.research.google.com/github/Jma374/BTE-320/blob/main/recursion.ipynb\" target=\"_parent\"><img src=\"https://colab.research.google.com/assets/colab-badge.svg\" alt=\"Open In Colab\"/></a>"
      ]
    },
    {
      "cell_type": "code",
      "execution_count": 3,
      "metadata": {
        "colab": {
          "base_uri": "https://localhost:8080/"
        },
        "id": "6BJYN87jQ8_c",
        "outputId": "4fccca97-83a2-4030-d2c2-95a0e8f67f5b"
      },
      "outputs": [
        {
          "output_type": "stream",
          "name": "stdout",
          "text": [
            "1 1 2 3 5 8 13 21 "
          ]
        }
      ],
      "source": [
        "def fibR(n):\n",
        "  if n==0 or n==1:\n",
        "    return 1\n",
        "  else:\n",
        "    return fibR(n-1) + fibR(n-2)\n",
        "\n",
        "\n",
        "for i in range(8):\n",
        "  print (fibR(i), end= \" \")\n"
      ]
    },
    {
      "cell_type": "code",
      "source": [
        "def mirrorString(s):\n",
        "  if len(s) == 1:\n",
        "    return s\n",
        "  else:\n",
        "    return s[-1] + mirrorString(s[:-1])\n",
        "\n",
        "mirrorString(\"hello\")\n"
      ],
      "metadata": {
        "colab": {
          "base_uri": "https://localhost:8080/",
          "height": 35
        },
        "id": "8d9l4m07T9bt",
        "outputId": "0b7eedcc-a5ad-4380-dd27-ceb61355f378"
      },
      "execution_count": 6,
      "outputs": [
        {
          "output_type": "execute_result",
          "data": {
            "text/plain": [
              "'olleh'"
            ],
            "application/vnd.google.colaboratory.intrinsic+json": {
              "type": "string"
            }
          },
          "metadata": {},
          "execution_count": 6
        }
      ]
    },
    {
      "cell_type": "code",
      "source": [
        "import numpy as np\n",
        "\n",
        "def quickSort (alist):\n",
        "  if len(alist) <2:\n",
        "    return alist\n",
        "  else:\n",
        "    low, same, high = [], [], []\n",
        "\n",
        "    pivotIndex = len(alist) // 2 #np.random. randint(0, len(alist)-1)\n",
        "\n",
        "    for item in alist:\n",
        "      if item < alist[pivot]:\n",
        "        low.append(item)\n",
        "      elif item == alist[pivot]:\n",
        "        same.append(item)\n",
        "      else:\n",
        "        high.append(item)\n",
        "  return quickSort(low) + same +quickSort(high)\n",
        "\n",
        "  quickSort([8,2,5,3,6,1])"
      ],
      "metadata": {
        "id": "NSMhVwq0bnNm"
      },
      "execution_count": 14,
      "outputs": []
    }
  ]
}