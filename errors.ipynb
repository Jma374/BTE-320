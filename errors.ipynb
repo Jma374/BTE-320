{
  "nbformat": 4,
  "nbformat_minor": 0,
  "metadata": {
    "colab": {
      "provenance": [],
      "authorship_tag": "ABX9TyPu9cKPic2zRmMuRHS6oD8E",
      "include_colab_link": true
    },
    "kernelspec": {
      "name": "python3",
      "display_name": "Python 3"
    },
    "language_info": {
      "name": "python"
    }
  },
  "cells": [
    {
      "cell_type": "markdown",
      "metadata": {
        "id": "view-in-github",
        "colab_type": "text"
      },
      "source": [
        "<a href=\"https://colab.research.google.com/github/Jma374/BTE-320/blob/main/errors.ipynb\" target=\"_parent\"><img src=\"https://colab.research.google.com/assets/colab-badge.svg\" alt=\"Open In Colab\"/></a>"
      ]
    },
    {
      "cell_type": "code",
      "execution_count": null,
      "metadata": {
        "id": "R-RBVzI0Bdcm"
      },
      "outputs": [],
      "source": [
        "a = 2\n",
        "b = 3\n",
        "\n",
        "print(a/b)"
      ]
    },
    {
      "cell_type": "code",
      "source": [
        "l = [1,3,5,7,9]\n",
        "\n",
        "try:\n",
        "  idx = float(input('Enter index: '))\n",
        "  print(l[idx])\n",
        "except IndexError:\n",
        "  print('Index value out of bounds!')\n",
        "except TypeError:\n",
        "  print('Indexes must be int')\n"
      ],
      "metadata": {
        "id": "kAjS7WG7HktX"
      },
      "execution_count": null,
      "outputs": []
    },
    {
      "cell_type": "code",
      "source": [
        "def avg(alist):\n",
        "  try:\n",
        "    return sum(alist)/len(alist)\n",
        "  except ZeroDivisionError:\n",
        "    print('The list is empty ')\n",
        "    return\n",
        "  except TypeError:\n",
        "    print('The list is not purely numerical')\n",
        "    return float('nan')\n",
        "  except\n",
        "\n",
        "l = [1,2,3]\n",
        "avg(1)\n",
        "\n",
        "\n",
        "\n",
        "\n"
      ],
      "metadata": {
        "id": "0Jq2wL9pLFE8"
      },
      "execution_count": null,
      "outputs": []
    }
  ]
}