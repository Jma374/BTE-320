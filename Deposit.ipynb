{
  "nbformat": 4,
  "nbformat_minor": 0,
  "metadata": {
    "colab": {
      "provenance": [],
      "authorship_tag": "ABX9TyMAuWJh1R4KfQXE+q/Yd81D",
      "include_colab_link": true
    },
    "kernelspec": {
      "name": "python3",
      "display_name": "Python 3"
    },
    "language_info": {
      "name": "python"
    }
  },
  "cells": [
    {
      "cell_type": "markdown",
      "metadata": {
        "id": "view-in-github",
        "colab_type": "text"
      },
      "source": [
        "<a href=\"https://colab.research.google.com/github/Jma374/BTE-320/blob/main/Deposit.ipynb\" target=\"_parent\"><img src=\"https://colab.research.google.com/assets/colab-badge.svg\" alt=\"Open In Colab\"/></a>"
      ]
    },
    {
      "cell_type": "code",
      "execution_count": 2,
      "metadata": {
        "colab": {
          "base_uri": "https://localhost:8080/"
        },
        "id": "vzbVGWRpJcjW",
        "outputId": "b71272fc-4933-42af-a70a-1c76ee408b72"
      },
      "outputs": [
        {
          "output_type": "stream",
          "name": "stdout",
          "text": [
            "Hi, please enter your name:Juan \n",
            "Enter custumer type (n:new, e:existing): 1000\n",
            "Enter deposit amount: $1000\n",
            "Juan , you will have $1030.0 in your account!\n"
          ]
        }
      ],
      "source": [
        "Name = input ('Hi, please enter your name:')\n",
        "Custumer_type = input('Enter custumer type (n:new, e:existing): ')\n",
        "Deposit = float(input(\"Enter deposit amount: $\"))\n",
        "\n",
        "if Custumer_type == 'n':\n",
        "  Interest = 0.03\n",
        "else:\n",
        "  if Deposit <= 1000:\n",
        "    Interest = float(0.03)\n",
        "  elif Deposit<=10000:\n",
        "    Interest = float(0.0325)\n",
        "  elif Deposit > 10000:\n",
        "    Interest = float (0.035)\n",
        "\n",
        "Amount = (1+Interest) * Deposit\n",
        "print(f'{Name}, you will have ${round(Amount, 2)} in your account!')"
      ]
    }
  ]
}